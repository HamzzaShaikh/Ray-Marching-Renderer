{
 "cells": [
  {
   "cell_type": "code",
   "execution_count": null,
   "metadata": {},
   "outputs": [],
   "source": [
    "import matplotlib.pyplot as plt\n",
    "import numpy as np"
   ]
  },
  {
   "cell_type": "code",
   "execution_count": null,
   "metadata": {},
   "outputs": [],
   "source": [
    "WIDTH = 100\n",
    "HEIGHT = 50\n",
    "FOV = 90\n",
    "FOV_RATIO = HEIGHT/WIDTH"
   ]
  },
  {
   "cell_type": "code",
   "execution_count": null,
   "metadata": {},
   "outputs": [],
   "source": [
    "CAMERA_POSITION = np.array([0, 0, 4])\n",
    "CAMERA_UP = np.array([0, 0, 1])\n",
    "CAMERA_FORWARD = np.array([1, 0, 0])\n",
    "CAMERA_RIGHT = np.cross(CAMERA_UP, CAMERA_FORWARD)\n",
    "CAMERA_TRANSFORM = np.matrix([CAMERA_FORWARD, CAMERA_RIGHT, CAMERA_UP])"
   ]
  },
  {
   "cell_type": "code",
   "execution_count": null,
   "metadata": {},
   "outputs": [],
   "source": [
    "def normalize(v):\n",
    "    return v / np.linalg.norm(v)\n",
    "\n",
    "def proj(u, v):\n",
    "    return np.dot(u, v) * normalize(v)\n",
    "\n",
    "def reflect(v, n):\n",
    "    return v - (np.dot(2*v, n) * n)"
   ]
  },
  {
   "cell_type": "code",
   "execution_count": null,
   "metadata": {},
   "outputs": [],
   "source": [
    "class Material:\n",
    "    def __init__(self, ambient, diffuse, spectral, spectral_p):\n",
    "        self.ambient = np.array(ambient)\n",
    "        self.diffuse = np.array(diffuse)\n",
    "        self.spectral = np.array(spectral)\n",
    "        self.spectral_p = spectral_p\n",
    "        \n",
    "    def get_ambient_coef(self):\n",
    "        return self.ambient\n",
    "    \n",
    "    def get_diffuse_coef(self):\n",
    "        return self.diffuse\n",
    "    \n",
    "    def get_spectral_coef(self):\n",
    "        return self.spectral\n",
    "    \n",
    "    def get_spectral_p_coef(self):\n",
    "        return self.spectral_p"
   ]
  },
  {
   "cell_type": "code",
   "execution_count": null,
   "metadata": {},
   "outputs": [],
   "source": [
    "class Sphere:\n",
    "    def __init__(self, position, radius, material):\n",
    "        self.position = position\n",
    "        self.radius = radius\n",
    "        self.material = material\n",
    "        \n",
    "    def get_distance(self, location):\n",
    "        return np.linalg.norm(location-self.position) - self.radius\n",
    "    \n",
    "    def get_surface_normal(self, location):\n",
    "         return normalize(location-self.position)\n",
    "     \n",
    "class Plane:\n",
    "    def __init__(self, position, normal, material):\n",
    "        self.position = position\n",
    "        self.normal = normalize(normal)\n",
    "        self.material = material\n",
    "        \n",
    "    def get_distance(self, location):\n",
    "        return np.linalg.norm(proj((location - self.position), self.normal))\n",
    "    \n",
    "    def get_surface_normal(self, location):\n",
    "        return self.normal"
   ]
  },
  {
   "cell_type": "code",
   "execution_count": null,
   "metadata": {},
   "outputs": [],
   "source": [
    "class Light:\n",
    "    def get_ray(self, location=None):\n",
    "        return (0, 0, 0)\n",
    "        \n",
    "class DirectionalLight(Light):\n",
    "    def __init__(self, direction, color):\n",
    "        self.direction = normalize(direction)\n",
    "        self.color = color\n",
    "        \n",
    "    def get_ray(self, location=None):\n",
    "        return self.direction\n",
    "        \n",
    "class PointLight(Light):\n",
    "    def __init__(self, position, color):\n",
    "        self.position = position\n",
    "        self.color = color\n",
    "        \n",
    "    def get_ray(self, location):\n",
    "        return normalize(self.position - location)"
   ]
  },
  {
   "cell_type": "code",
   "execution_count": null,
   "metadata": {},
   "outputs": [],
   "source": [
    "OBJECTS = [\n",
    "    Sphere(np.array([15, -8, 4]), 4, Material((.5, .02, .02), (0, 0, 0), (0, 0, 0), 1)),\n",
    "    Sphere(np.array([15, 0, 4]), 4, Material((.02, .2, .02), (0, 1, 0), (.8, .8, .8), .8)),\n",
    "    Sphere(np.array([15, 8, 4]), 4, Material((.02, .02, .2), (0, 0, 1), (0, 0, 0), 1)),\n",
    "    Plane(np.array([0, 0, 0]), np.array([0.01, 0, 1]), Material((0, 0, 0), (.5, .5, .5), (0, 0, 0), 1)),\n",
    "    Plane(np.array([20, 0, 0]), np.array([-1, 0, 0]), Material((0, 0, 0), (.5, .5, .5), (0, 0, 0), 1))\n",
    "]\n",
    "\n",
    "LIGHTS = [\n",
    "    DirectionalLight((.5, 0, -1), (1, 1, 1))\n",
    "]\n"
   ]
  },
  {
   "cell_type": "code",
   "execution_count": null,
   "metadata": {},
   "outputs": [],
   "source": [
    "class Ray:\n",
    "    def __init__(self, ray_position, ray_direction):\n",
    "        self.ray_position = ray_position\n",
    "        self.ray_direction = ray_direction\n",
    "        self.time = 1\n",
    "    \n",
    "    def get_next_pos(self, distance):\n",
    "        self.time += distance\n",
    "        return (self.time * self.ray_direction) + self.ray_position"
   ]
  },
  {
   "cell_type": "code",
   "execution_count": null,
   "metadata": {},
   "outputs": [],
   "source": [
    "def get_pixel_color(x, y):\n",
    "    # what is the ray coming from this pixel\n",
    "    theta = np.radians(((x - (WIDTH/2)) / WIDTH) * FOV)\n",
    "    rho =  np.radians(((y - (HEIGHT/2)) / HEIGHT) * FOV * FOV_RATIO)\n",
    "    x_rotation = np.matrix([\n",
    "        [np.cos(theta), -np.sin(theta), 0],\n",
    "        [np.sin(theta),  np.cos(theta), 0],\n",
    "        [0            ,  0            , 1]\n",
    "    ])\n",
    "    y_rotation = np.matrix([\n",
    "        [ np.cos(rho), 0, np.sin(rho)],\n",
    "        [ 0          , 1, 0          ],\n",
    "        [-np.sin(rho), 0, np.cos(rho)]\n",
    "    ])\n",
    "    direction_transform = CAMERA_TRANSFORM * x_rotation * y_rotation * np.linalg.inv(CAMERA_TRANSFORM)\n",
    "    ray_direction = np.resize(direction_transform @ CAMERA_FORWARD, (3,))\n",
    "    camera_ray = Ray(CAMERA_POSITION, ray_direction)\n",
    "    \n",
    "    # Does this ray hit anything\n",
    "    object_hit = None\n",
    "    hit_location = None\n",
    "    \n",
    "    current_ray_traveled = 0\n",
    "    for _ in range(1000):\n",
    "        current_ray = current_ray_traveled*camera_ray.ray_direction + camera_ray.ray_position\n",
    "        \n",
    "        min_distance = float('inf')\n",
    "        min_object = -1\n",
    "        for i, object in enumerate(OBJECTS):\n",
    "            this_distance = object.get_distance(current_ray)\n",
    "            if this_distance < min_distance:\n",
    "                min_distance = this_distance\n",
    "                min_object = i\n",
    "                \n",
    "        if min_distance < 0.001:\n",
    "            object_hit = OBJECTS[min_object]\n",
    "            hit_location = current_ray\n",
    "            break\n",
    "        elif min_distance > 1000:\n",
    "            break\n",
    "        else:\n",
    "            current_ray_traveled += min_distance\n",
    "            \n",
    "    pixel_color = np.array((0.0, 0.0, 0.0), dtype=np.float64)\n",
    "    \n",
    "    if object_hit is not None:\n",
    "                \n",
    "        # Ambient Shading\n",
    "        pixel_color += object_hit.material.get_ambient_coef()\n",
    "        \n",
    "        # Diffuse Shading\n",
    "        diffuse_color = np.array([0.0, 0.0, 0.0])\n",
    "        for light in LIGHTS:\n",
    "            brightness = max(np.dot(light.get_ray(hit_location), -normalize(object_hit.get_surface_normal(hit_location))), 0)\n",
    "            diffuse_color += object_hit.material.get_diffuse_coef() * (brightness * np.array(light.color))\n",
    "        pixel_color += diffuse_color\n",
    "        \n",
    "        # Spectral Shading\n",
    "        spectral_color = np.array([0.0, 0.0, 0.0])\n",
    "        for light in LIGHTS:\n",
    "            brightness = max(-(normalize(reflect(light.get_ray(hit_location), object_hit.get_surface_normal(hit_location))) @ camera_ray.ray_direction),0) ** object_hit.material.get_spectral_p_coef()\n",
    "            spectral_color += object_hit.material.get_spectral_coef() * (brightness * np.array(light.color))\n",
    "        pixel_color += spectral_color\n",
    "        \n",
    "    return pixel_color"
   ]
  },
  {
   "cell_type": "code",
   "execution_count": null,
   "metadata": {},
   "outputs": [],
   "source": [
    "# image = [[0 for _ in range(WIDTH)] for _ in range(HEIGHT)]\n",
    "# def set_pixel(x, y):\n",
    "#     image[y][x] = get_pixel_color(x, y)\n",
    "\n",
    "from multiprocessing import Pool\n",
    "\n",
    "pixel_coords = [(x, y) for x in range(WIDTH) for y in range(HEIGHT)]\n",
    "def test(x):\n",
    "    print(x)\n",
    "    return x*x\n",
    "with Pool(1) as pool:\n",
    "    # image = pool.map(get_pixel_color, pixel_coords)\n",
    "    print(pool.map(test, [1, 2, 3, 4]))\n",
    "    pool.close()\n",
    "    pool.join()\n",
    "# for x, y in pixel_coords:\n",
    "#     set_pixel(x, y)\n",
    "        \n",
    "# SATURATION = 1.5\n",
    "# image = (np.array(image) / (np.max(image)/SATURATION)).clip(0, 1)"
   ]
  },
  {
   "cell_type": "code",
   "execution_count": null,
   "metadata": {},
   "outputs": [],
   "source": [
    "print(image.shape)\n",
    "plt.imshow(image)"
   ]
  },
  {
   "cell_type": "code",
   "execution_count": null,
   "metadata": {},
   "outputs": [],
   "source": [
    "plt.imsave(\"output.png\", image)"
   ]
  }
 ],
 "metadata": {
  "kernelspec": {
   "display_name": "Python 3.9.7 ('base')",
   "language": "python",
   "name": "python3"
  },
  "language_info": {
   "codemirror_mode": {
    "name": "ipython",
    "version": 3
   },
   "file_extension": ".py",
   "mimetype": "text/x-python",
   "name": "python",
   "nbconvert_exporter": "python",
   "pygments_lexer": "ipython3",
   "version": "3.9.12"
  },
  "orig_nbformat": 4,
  "vscode": {
   "interpreter": {
    "hash": "ad2bdc8ecc057115af97d19610ffacc2b4e99fae6737bb82f5d7fb13d2f2c186"
   }
  }
 },
 "nbformat": 4,
 "nbformat_minor": 2
}
